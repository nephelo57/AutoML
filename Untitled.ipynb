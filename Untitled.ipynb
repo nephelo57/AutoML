{
 "cells": [
  {
   "cell_type": "code",
   "execution_count": null,
   "id": "0fc04cd5-aac6-4b52-876d-d8fd3d002139",
   "metadata": {
    "ExecutionIndicator": {
     "show": true
    },
    "scrolled": true,
    "tags": []
   },
   "outputs": [],
   "source": [
    "import pandas as pd\n",
    "import numpy as np\n",
    "from autogluon.tabular import TabularDataset, TabularPredictor\n",
    "import warnings\n",
    "\n",
    "warnings.filterwarnings('ignore')\n",
    "\n",
    "path='userPred/data/'\n",
    "train_data = pd.read_csv(path + 'train.csv')\n",
    "test_data = pd.read_csv(path + 'test.csv')\n",
    "\n",
    "train = TabularDataset(train_data.drop(['uuid'], axis=1))\n",
    "test = TabularDataset(test_data.drop(['uuid'], axis=1))"
   ]
  },
  {
   "cell_type": "code",
   "execution_count": null,
   "id": "333c01eb-2797-4752-9951-4be1d674a6c0",
   "metadata": {
    "execution": {
     "iopub.status.busy": "2024-03-02T01:13:42.138698Z",
     "iopub.status.idle": "2024-03-02T01:13:42.139263Z",
     "shell.execute_reply": "2024-03-02T01:13:42.139025Z",
     "shell.execute_reply.started": "2024-03-02T01:13:42.139004Z"
    },
    "tags": []
   },
   "outputs": [],
   "source": [
    "predictor = TabularPredictor(label='target',\n",
    "                             problem_type='binary',\n",
    "                             eval_metric='f1').fit(train_data=train,\n",
    "                                                   time_limit=60,\n",
    "                                                   presets='medium_quality',\n",
    "                                                   excluded_model_types=['CAT', 'NN_TORCH', 'FASTAI'])"
   ]
  },
  {
   "cell_type": "code",
   "execution_count": null,
   "id": "a1d94c47-1a8b-456a-bc6b-eac3ed0d801c",
   "metadata": {
    "execution": {
     "iopub.status.busy": "2024-03-02T01:13:42.140408Z",
     "iopub.status.idle": "2024-03-02T01:13:42.140998Z",
     "shell.execute_reply": "2024-03-02T01:13:42.140798Z",
     "shell.execute_reply.started": "2024-03-02T01:13:42.140778Z"
    }
   },
   "outputs": [],
   "source": [
    "predictions = predictor.predict(test)"
   ]
  },
  {
   "cell_type": "code",
   "execution_count": null,
   "id": "5ffac798-983f-42d9-9d54-f29946970120",
   "metadata": {
    "execution": {
     "iopub.status.busy": "2024-03-02T01:13:42.143631Z",
     "iopub.status.idle": "2024-03-02T01:13:42.144207Z",
     "shell.execute_reply": "2024-03-02T01:13:42.143983Z",
     "shell.execute_reply.started": "2024-03-02T01:13:42.143964Z"
    },
    "tags": []
   },
   "outputs": [],
   "source": [
    "predictor.leaderboard(test_data, silent=True)"
   ]
  },
  {
   "cell_type": "code",
   "execution_count": null,
   "id": "0b336037-2739-4c31-934e-24e50d431e47",
   "metadata": {},
   "outputs": [],
   "source": []
  }
 ],
 "metadata": {
  "kernelspec": {
   "display_name": "Python 3 (ipykernel)",
   "language": "python",
   "name": "python3"
  },
  "language_info": {
   "codemirror_mode": {
    "name": "ipython",
    "version": 3
   },
   "file_extension": ".py",
   "mimetype": "text/x-python",
   "name": "python",
   "nbconvert_exporter": "python",
   "pygments_lexer": "ipython3",
   "version": "3.11.5"
  }
 },
 "nbformat": 4,
 "nbformat_minor": 5
}
